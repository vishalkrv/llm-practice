{
 "cells": [
  {
   "cell_type": "code",
   "execution_count": 12,
   "id": "b27e2e26",
   "metadata": {},
   "outputs": [],
   "source": [
    "import os\n",
    "import requests\n",
    "from openai import OpenAI\n",
    "from IPython.display import Markdown,update_display, display\n",
    "from dotenv import load_dotenv"
   ]
  },
  {
   "cell_type": "code",
   "execution_count": 13,
   "id": "3979a8dd",
   "metadata": {},
   "outputs": [
    {
     "name": "stdout",
     "output_type": "stream",
     "text": [
      "API key looks good so far\n"
     ]
    }
   ],
   "source": [
    "load_dotenv(override=True)\n",
    "\n",
    "api_key= os.getenv('OPENAI_API_KEY')\n",
    "base_url=os.getenv('OPENAI_BASE_URL')\n",
    "\n",
    "if api_key and api_key.startswith('helix-') and len(api_key)>10:\n",
    "    print(\"API key looks good so far\")\n",
    "else:\n",
    "    print(\"There might be a problem with your API key? Please visit the troubleshooting notebook!\")\n",
    "\n",
    "MODEL=\"gpt-4.1-mini\"\n",
    "\n",
    "openai = OpenAI(\n",
    "    base_url=base_url,\n",
    "    api_key=api_key\n",
    ")"
   ]
  },
  {
   "cell_type": "code",
   "execution_count": 14,
   "id": "ba4d8acf",
   "metadata": {},
   "outputs": [],
   "source": [
    "question = \"\"\"\n",
    "Please explain what this code does and why:\n",
    "yield from {book.get(\"author\") for book in books if book.get(\"author\")}\n",
    "\"\"\""
   ]
  },
  {
   "cell_type": "code",
   "execution_count": 23,
   "id": "86d7ac15",
   "metadata": {},
   "outputs": [],
   "source": [
    "def ask_ai(question):\n",
    "    stream = openai.chat.completions.create(\n",
    "        model=MODEL,\n",
    "        messages=[{\n",
    "            \"role\":\"system\",\"content\":\"You are a helpful technical assistant who will explain the question to user in simple way with an example and response format will be in Markdown\",\n",
    "            \"role\":\"user\",\"content\":question\n",
    "        }],\n",
    "        stream=True\n",
    "    )\n",
    "\n",
    "    response =\"\"\n",
    "    display_handle = display(Markdown(\"\"), display_id=True)\n",
    "    for chunk in stream:\n",
    "        response += chunk.choices[0].delta.content or ''\n",
    "        response = response.replace(\"```\",\"\").replace(\"markdown\", \"\")\n",
    "        update_display(Markdown(response), display_id=display_handle.display_id)"
   ]
  },
  {
   "cell_type": "code",
   "execution_count": 24,
   "id": "d53394f8",
   "metadata": {},
   "outputs": [
    {
     "data": {
      "text/markdown": [
       "Certainly! Let me break down the code snippet for you:\n",
       "\n",
       "python\n",
       "yield from {book.get(\"author\") for book in books if book.get(\"author\")}\n",
       "\n",
       "\n",
       "### What the code does:\n",
       "\n",
       "1. **Set comprehension:**\n",
       "   python\n",
       "   {book.get(\"author\") for book in books if book.get(\"author\")}\n",
       "   \n",
       "   This expression creates a **set** of authors from the collection `books`.\n",
       "\n",
       "   - `books` is presumably an iterable (like a list) of dictionaries.\n",
       "   - For each `book` in `books`, it uses `book.get(\"author\")` to retrieve the author.\n",
       "   - The `if book.get(\"author\")` part filters out any books that do not have an `\"author\"` key or whose author value is `None` or otherwise falsey.\n",
       "   - The result is a set of unique authors (because sets cannot contain duplicates).\n",
       "\n",
       "2. **`yield from` statement:**\n",
       "   python\n",
       "   yield from <set_of_authors>\n",
       "   \n",
       "   - `yield from` is used in a generator function to delegate the yielding process to another iterable.\n",
       "   - Here, it takes the set of unique authors and yields each author one by one to the caller of the generator.\n",
       "\n",
       "---\n",
       "\n",
       "### Why is this used?\n",
       "\n",
       "- **Filtering authors:** The expression filters out any books without an author (or with `None` or falsey authors), ensuring only valid authors are included.\n",
       "- **Uniqueness:** By using a set comprehension, it guarantees that duplicate author names appear only once.\n",
       "- **Generator behavior:** Using `yield from` means that the function does not have to manage looping explicitly; it simply delegates yielding each unique author to the caller.\n",
       "- **Efficiency:** Because the set comprehension builds all unique authors at once before yielding, this code is most useful when you want a unique list of authors and don't mind creating that set in memory.\n",
       "\n",
       "---\n",
       "\n",
       "### Example:\n",
       "\n",
       "python\n",
       "def unique_authors(books):\n",
       "    yield from {book.get(\"author\") for book in books if book.get(\"author\")}\n",
       "\n",
       "books = [\n",
       "    {\"title\": \"Book A\", \"author\": \"Author 1\"},\n",
       "    {\"title\": \"Book B\"},\n",
       "    {\"title\": \"Book C\", \"author\": \"Author 2\"},\n",
       "    {\"title\": \"Book D\", \"author\": \"Author 1\"},\n",
       "]\n",
       "\n",
       "for author in unique_authors(books):\n",
       "    print(author)\n",
       "\n",
       "\n",
       "**Output:**\n",
       "\n",
       "\n",
       "Author 1\n",
       "Author 2\n",
       "\n",
       "\n",
       "Notice how \"Author 1\" is printed only once, despite appearing twice in the input.\n",
       "\n",
       "---\n",
       "\n",
       "### Summary:\n",
       "\n",
       "- The code collects all unique author names from `books`, ignoring entries without authors.\n",
       "- It then yields each unique author to the caller.\n",
       "- This is useful when you want to iterate over all unique authors in a generator style."
      ],
      "text/plain": [
       "<IPython.core.display.Markdown object>"
      ]
     },
     "metadata": {},
     "output_type": "display_data"
    }
   ],
   "source": [
    "ask_ai(question)"
   ]
  },
  {
   "cell_type": "code",
   "execution_count": null,
   "id": "0e168d62",
   "metadata": {},
   "outputs": [],
   "source": []
  }
 ],
 "metadata": {
  "kernelspec": {
   "display_name": ".venv",
   "language": "python",
   "name": "python3"
  },
  "language_info": {
   "codemirror_mode": {
    "name": "ipython",
    "version": 3
   },
   "file_extension": ".py",
   "mimetype": "text/x-python",
   "name": "python",
   "nbconvert_exporter": "python",
   "pygments_lexer": "ipython3",
   "version": "3.12.7"
  }
 },
 "nbformat": 4,
 "nbformat_minor": 5
}
