{
 "cells": [
  {
   "cell_type": "code",
   "execution_count": 3,
   "id": "145bb3a5",
   "metadata": {},
   "outputs": [],
   "source": [
    "import os\n",
    "import requests\n",
    "import json\n",
    "from dotenv import load_dotenv\n",
    "from IPython.display import Markdown, display, update_display\n",
    "from openai import OpenAI\n",
    "import anthropic\n",
    "from google import genai\n",
    "from google.genai import types"
   ]
  },
  {
   "cell_type": "code",
   "execution_count": 6,
   "id": "1357f2a8",
   "metadata": {},
   "outputs": [],
   "source": [
    "load_dotenv(override=True)\n",
    "api_key = os.getenv('OPENAI_API_KEY')\n",
    "base_url = os.getenv('OPENAI_BASE_URL')\n",
    "headers = {\n",
    "    \"Authorization\": f\"Bearer {api_key}\",\n",
    "    \"Content-Type\": \"application/json\",\n",
    "}"
   ]
  },
  {
   "cell_type": "code",
   "execution_count": 41,
   "id": "eab21b0a",
   "metadata": {},
   "outputs": [],
   "source": [
    "data = {\n",
    "    \"model\": \"gemini-2.0-flash\",  # Choose the Gemini model\n",
    "    \"messages\": [\n",
    "        {\"role\": \"system\", \"content\": \"You are a helpful assistant.\"},\n",
    "        {\"role\": \"user\", \"content\": \"How far is sun from earth\"},\n",
    "    ],\n",
    "    \"params\":{\n",
    "        \"temperature\":\"0.5\"\n",
    "    },\n",
    "    \"stream\":True\n",
    "}"
   ]
  },
  {
   "cell_type": "code",
   "execution_count": 37,
   "id": "e9a132f5",
   "metadata": {},
   "outputs": [
    {
     "name": "stdout",
     "output_type": "stream",
     "text": [
      "Why did the JavaScript developer quit their job?\n",
      "\n",
      "Because they didn't get arrays! \n",
      "\n"
     ]
    }
   ],
   "source": [
    "try:\n",
    "    response = requests.post(f'{base_url}/chat/completions', headers=headers, json=data)\n",
    "    response.raise_for_status() # Raise an exception for bad status codes (4xx or 5xx)\n",
    "    json_response = response.json()\n",
    "    # print(json.dumps(json_response, indent=2))\n",
    "    print(json_response['choices'][0]['message']['content'])\n",
    "except requests.exceptions.RequestException as e:\n",
    "    print(f\"An error occurred: {e} \")"
   ]
  },
  {
   "cell_type": "code",
   "execution_count": 42,
   "id": "58952428",
   "metadata": {},
   "outputs": [
    {
     "name": "stdout",
     "output_type": "stream",
     "text": [
      "The distance between the Sun and the Earth varies throughout the year because Earth's orbit is an ellipse, not a perfect circle. Here's a breakdown:\n",
      "\n",
      "*   **Average distance (Astronomical Unit - AU):** About 149.6 million kilometers (93 million miles). This average distance is also defined as one astronomical unit (AU).\n",
      "*   **Closest distance (Perihelion):** Around 147.1 million kilometers (91.4 million miles). This happens in early January.\n",
      "*   **Farthest distance (Aphelion):** Around 152.1 million kilometers (94.5 million miles). This happens in early July.\n",
      "\n",
      "So, to give a simple answer, you can say the Sun is about **150 million kilometers (93 million miles)** away from Earth.\n"
     ]
    }
   ],
   "source": [
    "response = requests.post(f'{base_url}/chat/completions', headers=headers, json=data, stream=True)\n",
    "response.raise_for_status()\n",
    "\n",
    "for line in response.iter_lines():\n",
    "    line = line.decode(\"utf-8\")\n",
    "\n",
    "    if line.startswith(\"data: \") and not line.endswith(\"[DONE]\"):\n",
    "        data = json.loads(line[len(\"data: \"):])\n",
    "        chunk = data[\"choices\"][0][\"delta\"].get(\"content\", \"\")\n",
    "        print(chunk, end=\"\", flush=True)\n",
    "\n",
    "print()"
   ]
  },
  {
   "cell_type": "code",
   "execution_count": null,
   "id": "b40027a4",
   "metadata": {},
   "outputs": [],
   "source": []
  }
 ],
 "metadata": {
  "kernelspec": {
   "display_name": ".venv",
   "language": "python",
   "name": "python3"
  },
  "language_info": {
   "codemirror_mode": {
    "name": "ipython",
    "version": 3
   },
   "file_extension": ".py",
   "mimetype": "text/x-python",
   "name": "python",
   "nbconvert_exporter": "python",
   "pygments_lexer": "ipython3",
   "version": "3.12.7"
  }
 },
 "nbformat": 4,
 "nbformat_minor": 5
}
